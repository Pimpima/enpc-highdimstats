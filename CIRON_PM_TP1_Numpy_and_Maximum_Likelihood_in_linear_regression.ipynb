{
  "cells": [
    {
      "cell_type": "markdown",
      "metadata": {
        "id": "view-in-github",
        "colab_type": "text"
      },
      "source": [
        "<a href=\"https://colab.research.google.com/github/Pimpima/enpc-highdimstats/blob/main/CIRON_PM_TP1_Numpy_and_Maximum_Likelihood_in_linear_regression.ipynb\" target=\"_parent\"><img src=\"https://colab.research.google.com/assets/colab-badge.svg\" alt=\"Open In Colab\"/></a>"
      ]
    },
    {
      "cell_type": "code",
      "execution_count": 2,
      "metadata": {
        "id": "5-t13z1BmLJK",
        "outputId": "9b0184bc-0fb2-459c-e869-4c165b52986c",
        "colab": {
          "base_uri": "https://localhost:8080/"
        }
      },
      "outputs": [
        {
          "output_type": "stream",
          "name": "stderr",
          "text": [
            "/usr/local/lib/python3.7/dist-packages/statsmodels/tools/_testing.py:19: FutureWarning: pandas.util.testing is deprecated. Use the functions in the public API at pandas.testing instead.\n",
            "  import pandas.util.testing as tm\n"
          ]
        }
      ],
      "source": [
        "import numpy as np\n",
        "import matplotlib.pyplot as plt\n",
        "import statsmodels.api as sm\n",
        "import scipy\n"
      ]
    },
    {
      "cell_type": "markdown",
      "metadata": {
        "id": "-WGPPBLEmLJT"
      },
      "source": [
        "# Random numbers\n",
        "\n",
        "Numpy let you generate random numbers. Using the random number generators given as examples, implement the functions below."
      ]
    },
    {
      "cell_type": "code",
      "execution_count": 3,
      "metadata": {
        "id": "epRP3NF1mLJV",
        "outputId": "ca2fb1de-86e4-47a4-a37f-7341f01faf8a",
        "colab": {
          "base_uri": "https://localhost:8080/"
        }
      },
      "outputs": [
        {
          "output_type": "execute_result",
          "data": {
            "text/plain": [
              "-1.2383707988418997"
            ]
          },
          "metadata": {},
          "execution_count": 3
        }
      ],
      "source": [
        "np.random.normal()"
      ]
    },
    {
      "cell_type": "code",
      "execution_count": 4,
      "metadata": {
        "id": "5CRViJzAmLJY",
        "outputId": "93dfa66f-2999-4453-9624-a97116e5aef6",
        "colab": {
          "base_uri": "https://localhost:8080/"
        }
      },
      "outputs": [
        {
          "output_type": "execute_result",
          "data": {
            "text/plain": [
              "array([10.79025472,  8.83332318, 10.68656906])"
            ]
          },
          "metadata": {},
          "execution_count": 4
        }
      ],
      "source": [
        "mu = 10\n",
        "variance = 2\n",
        "np.random.normal(mu, variance, size=(3, ))"
      ]
    },
    {
      "cell_type": "code",
      "execution_count": 8,
      "metadata": {
        "id": "OxML1vX3mLJZ",
        "outputId": "e506713b-b8c9-4cfc-a6f5-03e43a171a84",
        "colab": {
          "base_uri": "https://localhost:8080/"
        }
      },
      "outputs": [
        {
          "output_type": "execute_result",
          "data": {
            "text/plain": [
              "(8, 1)"
            ]
          },
          "metadata": {},
          "execution_count": 8
        }
      ],
      "source": [
        "p = 0.8\n",
        "n = 10\n",
        "np.random.binomial(n, p), np.random.binomial(1, p) # Binomial(n,p), Bernoulli(p)"
      ]
    },
    {
      "cell_type": "code",
      "execution_count": 9,
      "metadata": {
        "id": "RmKm54J2mLJb",
        "outputId": "fdff8c3c-4927-4a63-817c-e230df8313ff",
        "colab": {
          "base_uri": "https://localhost:8080/"
        }
      },
      "outputs": [
        {
          "output_type": "execute_result",
          "data": {
            "text/plain": [
              "array([1, 1, 1, 1, 1])"
            ]
          },
          "metadata": {},
          "execution_count": 9
        }
      ],
      "source": [
        "np.random.binomial(1, p, size=(5, ))"
      ]
    },
    {
      "cell_type": "code",
      "execution_count": 11,
      "metadata": {
        "id": "PF2DdRxXmLJc",
        "outputId": "20952293-4a76-4b9c-fa1e-c1d9d74603d5",
        "colab": {
          "base_uri": "https://localhost:8080/"
        }
      },
      "outputs": [
        {
          "output_type": "execute_result",
          "data": {
            "text/plain": [
              "array([[ 5.98731621,  0.41017043,  3.65834617],\n",
              "       [ 0.41017043,  1.9544169 , -2.01443603],\n",
              "       [ 3.65834617, -2.01443603,  7.68086157]])"
            ]
          },
          "metadata": {},
          "execution_count": 11
        }
      ],
      "source": [
        "from scipy import linalg\n",
        "\n",
        "def generate_wishart(n, covariance, k=1):\n",
        "    \"\"\"\n",
        "    Return k Wishart matrices with degrees of freedom n\n",
        "    and given covariance.\n",
        "    \n",
        "    Parameters\n",
        "    ----------\n",
        "    n: int\n",
        "        degrees of freedom\n",
        "    covariance: np array of shape (p, p)\n",
        "        covariance matrix\n",
        "    k: int or None (optional)\n",
        "        number of wishart matrices to return\n",
        "    \n",
        "    Return\n",
        "    ------\n",
        "    W: np array of shape (k, p, p)\n",
        "        k Wishart matrices\n",
        "    \"\"\"\n",
        "    p = covariance.shape[0]\n",
        "    X = np.zeros((k,p,n))\n",
        "    W = np.zeros((k,p,p))\n",
        "\n",
        "    for i in range(k) :\n",
        "      X[i] = np.random.multivariate_normal(np.zeros(p), covariance, n).T\n",
        "      W[i] = X[i]@(X[i].T)\n",
        "    return(np.squeeze(W))\n",
        "    \n",
        "generate_wishart(5, np.eye(3))"
      ]
    },
    {
      "cell_type": "code",
      "execution_count": 12,
      "metadata": {
        "id": "ijobEYySmLJd",
        "outputId": "119678f5-689a-4688-d039-9787c487b96b",
        "colab": {
          "base_uri": "https://localhost:8080/"
        }
      },
      "outputs": [
        {
          "output_type": "execute_result",
          "data": {
            "text/plain": [
              "4"
            ]
          },
          "metadata": {},
          "execution_count": 12
        }
      ],
      "source": [
        "np.random.choice(6) + 1 # roll a die"
      ]
    },
    {
      "cell_type": "code",
      "execution_count": 13,
      "metadata": {
        "id": "lVgd3WYTmLJe",
        "outputId": "b348ffcf-2300-4c43-c7fc-c7cf35b13b24",
        "colab": {
          "base_uri": "https://localhost:8080/"
        }
      },
      "outputs": [
        {
          "output_type": "execute_result",
          "data": {
            "text/plain": [
              "array([3, 2, 3, 2, 4, 1, 3, 1, 3, 4])"
            ]
          },
          "metadata": {},
          "execution_count": 13
        }
      ],
      "source": [
        "1 + np.random.choice(6, p =[1/6, 1/6, 1/6, 1/6, 1/6, 1/6], size=(10, ))  # roll a die 10 times"
      ]
    },
    {
      "cell_type": "code",
      "execution_count": 14,
      "metadata": {
        "id": "N0k1b3rPmLJf",
        "outputId": "105953f1-d29e-4fa4-e1c0-b3e3b4876193",
        "colab": {
          "base_uri": "https://localhost:8080/"
        }
      },
      "outputs": [
        {
          "output_type": "execute_result",
          "data": {
            "text/plain": [
              "array([2, 1, 4, 6, 3, 6, 6, 6, 2, 4])"
            ]
          },
          "metadata": {},
          "execution_count": 14
        }
      ],
      "source": [
        "# roll a biased die 10 times\n",
        "1 + np.random.choice(6, p =[1/10, 1/10, 1/10, 1/10, 1/10, 1/2], size=(10, )) "
      ]
    },
    {
      "cell_type": "code",
      "execution_count": 15,
      "metadata": {
        "id": "TrCs9yHxmLJg",
        "outputId": "738e8427-0fa0-443e-9892-b1ae26560137",
        "colab": {
          "base_uri": "https://localhost:8080/",
          "height": 513
        }
      },
      "outputs": [
        {
          "output_type": "display_data",
          "data": {
            "text/plain": [
              "<Figure size 432x288 with 1 Axes>"
            ],
            "image/png": "[encoded data removed]"
          },
          "metadata": {
            "needs_background": "light"
          }
        },
        {
          "output_type": "display_data",
          "data": {
            "text/plain": [
              "<Figure size 432x288 with 1 Axes>"
            ],
            "image/png": "[encoded data removed]"
          },
          "metadata": {
            "needs_background": "light"
          }
        }
      ],
      "source": [
        "def biased_die_histogram(p, k):\n",
        "    \"\"\"\n",
        "    Draw a biased die with probabilities p, k times, and plot the resulting histograms.\n",
        "    There should be six bars.\n",
        "    \n",
        "    Parameters\n",
        "    ----------\n",
        "    p : np array of shape (6,)\n",
        "        The probabilities associated with each outcome of the dice.\n",
        "    k: int\n",
        "        Number of rolls\n",
        "    \"\"\"\n",
        "\n",
        "    # histo_distribution = np.zeros(6)\n",
        "\n",
        "    rolls = 1 + np.random.choice(6, p=p, size=k) \n",
        "\n",
        "    # histo_distribution = np.bincount(rolls, minlength=6)\n",
        "\n",
        "    plt.hist(rolls)\n",
        "    plt.show()\n",
        "\n",
        "biased_die_histogram([1/6, 1/6, 1/6, 1/6, 1/6, 1/6], 100)\n",
        "biased_die_histogram([1/10, 1/10, 1/10, 1/10, 1/10, 1/2], 100)"
      ]
    },
    {
      "cell_type": "markdown",
      "metadata": {
        "id": "wzr2RHxXmLJh"
      },
      "source": [
        "# SVD, Pseudo-Inverse in numpy\n",
        "\n",
        "Generate a random matrix A of size (3, 6) with iid N(0,1) entries, and verify that the singular values squared are the eigenvalues of the matrix $A^TA$.\n",
        "\n",
        "Verify that the pseudo-inverse computed by ``np.linalg.pinv`` is the same as the pseudo-inverse computed from its definition using the SVD."
      ]
    },
    {
      "cell_type": "code",
      "execution_count": 48,
      "metadata": {
        "id": "pXP901WRmLJi"
      },
      "outputs": [],
      "source": [
        "p, n = 3, 6\n",
        "A =  np.random.multivariate_normal(np.zeros(p), np.eye(p), n).T\n",
        "\n",
        "\n",
        "def test_singular_values_eigenvalues():\n",
        "    \"\"\"Test that the square of the singular values of X gives the eigenvalue of X^T.dot(X)\n",
        "    \"\"\"\n",
        "    A =  np.random.multivariate_normal(np.zeros(p), np.eye(p), n).T\n",
        "    U,S,Vt = np.linalg.svd(A, False)\n",
        "    AtA_U, AtA_S, AtA_Vt = np.linalg.svd(A@A.T, False) #use svd to ensure that eigenvalues are in the same order\n",
        "    np.testing.assert_allclose(pow(S,2),AtA_S)\n",
        "\n",
        "test_singular_values_eigenvalues()\n",
        "\n",
        "def test_pinv():\n",
        "    \"\"\"Test that computing the pseudo inverse with pinv or via svd gives the same result\n",
        "    \"\"\"\n",
        "    A =  np.random.multivariate_normal(np.zeros(p), np.eye(p), n).T\n",
        "    U,S,Vt = np.linalg.svd(A, False)\n",
        "    test_inv = np.linalg.pinv(A)\n",
        "    #formule with np.where if 0 is in S\n",
        "    pseudo_inv = Vt.T@np.diagflat(np.where(S>0, pow(S,-1), np.zeros(p)))@U.T\n",
        "    np.testing.assert_allclose(test_inv, pseudo_inv)\n",
        "\n",
        "test_pinv()"
      ]
    },
    {
      "cell_type": "markdown",
      "metadata": {
        "id": "O0zRiqchmLJi"
      },
      "source": [
        "# Boxplots\n",
        "\n",
        "Using matplotlib, for each $\\theta = 1,2,...20$, generate 100 independent copies of a random variable with $N(\\theta, \\theta^{-1})$ distribution. Plot the generated random variables with boxplots, one boxplot for each value of $\\theta$ and the x-axis representing $\\theta$."
      ]
    },
    {
      "cell_type": "code",
      "execution_count": 63,
      "metadata": {
        "id": "dn_dyaQXmLJj",
        "outputId": "c3ac56a2-3395-4aaa-b926-6e1b4e89195c",
        "colab": {
          "base_uri": "https://localhost:8080/",
          "height": 281
        }
      },
      "outputs": [
        {
          "output_type": "display_data",
          "data": {
            "text/plain": [
              "<Figure size 432x288 with 1 Axes>"
            ],
            "image/png": "[encoded data removed]"
          },
          "metadata": {
            "needs_background": "light"
          }
        }
      ],
      "source": [
        "def plot_boxplot_normal_increasing_mean_and_variance():\n",
        "    \"\"\"Using matplotlib, for each theta = 1,2,...,20, \n",
        "    generate 100 independent copies of a random variable \n",
        "    with N(theta, theta^{-1}) distribution. \n",
        "    Plot the generated random variables with boxplots, \n",
        "    one boxplot for each value of theta and \n",
        "    the x-axis representing theta.\n",
        "    \"\"\"\n",
        "\n",
        "    random_var = [np.random.normal(theta, 1/theta, size=100) for theta in range(1, 21)]\n",
        "    plt.xlabel(r'$\\theta$')\n",
        "    plt.ylabel('Boxplots')\n",
        "    plt.boxplot(random_var)\n",
        "    plt.show()\n",
        "\n",
        "plot_boxplot_normal_increasing_mean_and_variance()"
      ]
    },
    {
      "cell_type": "markdown",
      "metadata": {
        "id": "BVW0AAkMmLJj"
      },
      "source": [
        "# Quantile quantile plots\n",
        "\n",
        "In order to check visually that a collection of random variables follow a certain distribution, quantile quantile plots are convenient."
      ]
    },
    {
      "cell_type": "code",
      "execution_count": 64,
      "metadata": {
        "id": "slqtADX9mLJk"
      },
      "outputs": [],
      "source": [
        "n = 10\n",
        "X = np.random.randint(1000, size=n) # generate n numbers\n",
        "X_sort = np.sort(X) # sort them\n",
        "scores  = np.arange(1, n + 1) / (n+1) # their corresponding scores (many other methods are possible)"
      ]
    },
    {
      "cell_type": "code",
      "execution_count": 73,
      "metadata": {
        "id": "ur4ciDT_mLJk",
        "outputId": "fe9398d6-3bd9-46ed-b88f-a9df3ac9a2bd",
        "colab": {
          "base_uri": "https://localhost:8080/",
          "height": 900
        }
      },
      "outputs": [
        {
          "output_type": "display_data",
          "data": {
            "text/plain": [
              "<Figure size 432x288 with 1 Axes>"
            ],
            "image/png": "[encoded data removed]"
          },
          "metadata": {
            "needs_background": "light"
          }
        },
        {
          "output_type": "display_data",
          "data": {
            "text/plain": [
              "<Figure size 432x288 with 1 Axes>"
            ],
            "image/png": "[encoded data removed]"
          },
          "metadata": {
            "needs_background": "light"
          }
        },
        {
          "output_type": "display_data",
          "data": {
            "text/plain": [
              "<Figure size 432x288 with 1 Axes>"
            ],
            "image/png": "[encoded data removed]"
          },
          "metadata": {
            "needs_background": "light"
          }
        },
        {
          "output_type": "stream",
          "name": "stdout",
          "text": [
            "<bound method rv_continuous.ppf of <scipy.stats._continuous_distns.cauchy_gen object at 0x7fd142fce050>>\n",
            "20%, 50% and 60% quantiles: [-6.31375151 -3.07768354 -1.96261051 -1.37638192 -1.         -0.72654253\n",
            " -0.50952545 -0.3249197  -0.15838444  0.          0.15838444  0.3249197\n",
            "  0.50952545  0.72654253  1.          1.37638192  1.96261051  3.07768354\n",
            "  6.31375151]\n"
          ]
        }
      ],
      "source": [
        "# Getting theoretical quantities on distributions\n",
        "cauchy = scipy.stats.cauchy # many others are available\n",
        "# the probability density function\n",
        "X = np.arange(-100, 100, 0.1)\n",
        "plt.figure()\n",
        "plt.title(\"The pdf of Cauchy density\")\n",
        "plt.plot(X, cauchy.pdf(X))\n",
        "plt.show()\n",
        "# the cumulative distribution function\n",
        "X = np.arange(-100, 100, 0.1)\n",
        "plt.figure()\n",
        "plt.title(\"The cdf of Cauchy density\")\n",
        "plt.plot(X, cauchy.cdf(X))\n",
        "plt.show()\n",
        "# the percent point function (inverse of cdf)\n",
        "X = np.arange(0, 1, 0.01)\n",
        "plt.figure()\n",
        "plt.title(\"The ppf of Cauchy density\")\n",
        "plt.plot(X, cauchy.ppf(X))\n",
        "plt.show()\n",
        "# Theoretical 20%, 50% and 60% quantiles of cauchy distribution\n",
        "quantiles = cauchy.ppf(np.arange(0.05,1,0.05))\n",
        "print(cauchy.ppf)\n",
        "print(\"20%, 50% and 60% quantiles:\", quantiles)"
      ]
    },
    {
      "cell_type": "markdown",
      "metadata": {
        "id": "Mt8uDpQ3mLJl"
      },
      "source": [
        "1. Generate 100 independent copies of N(1,3) random variables and plot the QQ-plot\n",
        "against the theoretical quantiles of the N(0,1), N(5, 3) and N(1,3) distribution. Superpose on the plot the line y=x.\n",
        "\n",
        "2. Generate 100 independent copies of chi-square random variables with 5 degrees of freedom,\n",
        "and compare those aginst the theoretical quantiles of the N(5,1) distribution, the $\\chi^2_4$ distribution, the $\\chi^2_5$ distribution, the $\\chi^2_6$ distribution.Superpose on the plot the line y=x."
      ]
    },
    {
      "cell_type": "code",
      "execution_count": 86,
      "metadata": {
        "id": "JPMqSPBEmLJl",
        "outputId": "5510eba0-a2e6-4510-ce8f-62c4c9a6a805",
        "colab": {
          "base_uri": "https://localhost:8080/",
          "height": 541
        }
      },
      "outputs": [
        {
          "output_type": "display_data",
          "data": {
            "text/plain": [
              "<Figure size 432x288 with 1 Axes>"
            ],
            "image/png": "[encoded data removed]"
          },
          "metadata": {
            "needs_background": "light"
          }
        },
        {
          "output_type": "display_data",
          "data": {
            "text/plain": [
              "<Figure size 432x288 with 1 Axes>"
            ],
            "image/png": "[encoded data removed]"
          },
          "metadata": {
            "needs_background": "light"
          }
        }
      ],
      "source": [
        "def qqplot(data, distribution):\n",
        "    \"\"\"\n",
        "    Generate a qqplot using the quantiles of the data and the theoretical data of the distribution.\n",
        "    Superpose on the plot the line y=x.\n",
        "    \n",
        "    Parameters\n",
        "    ----------\n",
        "    data: np array of shape (100,)\n",
        "        Empirical data\n",
        "    \n",
        "    distribution: distribution from scipy.stats\n",
        "        Theoretical distribution to compare to\n",
        "    \"\"\"\n",
        "\n",
        "    percents = 1. * np.arange(len(data)) / (len(data) - 1)\n",
        "\n",
        "    #sort data\n",
        "    data_quantiles = np.sort(data[1:-1])\n",
        "    distrib_quantiles = distribution.ppf(percents[1:-1])\n",
        "\n",
        "    #plots\n",
        "    plt.plot(distrib_quantiles, data_quantiles, 'o', color='blue')\n",
        "    x_min, x_max = np.min(distrib_quantiles), np.max(distrib_quantiles)\n",
        "    y_min, y_max = np.min(data_quantiles), np.max(data_quantiles)\n",
        "    min_disp, max_disp = min(x_min,y_min), max(x_max,y_max)\n",
        "    id_range = np.linspace(min_disp, max_disp, 1000)\n",
        "    plt.plot(id_range, id_range, color='red')\n",
        "    plt.ylim(min_disp, max_disp)\n",
        "    plt.xlabel('Theoritical Quantiles')\n",
        "    plt.ylabel('Sample Quantiles')\n",
        "    plt.show()\n",
        "\n",
        "\n",
        "    \n",
        "def test_qqplot_sm():\n",
        "    \"\"\"\n",
        "    Test the plot is the same as in sm.qqplot\n",
        "    \"\"\"\n",
        "    X = np.random.normal(0, 1, size=100)\n",
        "    qqplot(X, scipy.stats.norm)\n",
        "    sm.qqplot(X, line='45')\n",
        "    \n",
        "test_qqplot_sm()"
      ]
    },
    {
      "cell_type": "code",
      "execution_count": 91,
      "metadata": {
        "id": "HcmnAkzamLJm",
        "outputId": "ed696275-6ed5-47ae-8b36-4a1e6e7f3b85",
        "colab": {
          "base_uri": "https://localhost:8080/",
          "height": 803
        }
      },
      "outputs": [
        {
          "output_type": "display_data",
          "data": {
            "text/plain": [
              "<Figure size 432x288 with 1 Axes>"
            ],
            "image/png": "[encoded data removed]"
          },
          "metadata": {
            "needs_background": "light"
          }
        },
        {
          "output_type": "display_data",
          "data": {
            "text/plain": [
              "<Figure size 432x288 with 1 Axes>"
            ],
            "image/png": "[encoded data removed]"
          },
          "metadata": {
            "needs_background": "light"
          }
        },
        {
          "output_type": "display_data",
          "data": {
            "text/plain": [
              "<Figure size 432x288 with 1 Axes>"
            ],
            "image/png": "[encoded data removed]"
          },
          "metadata": {
            "needs_background": "light"
          }
        }
      ],
      "source": [
        "# Answer 1.\n",
        "\n",
        "data = np.random.normal(1, 3, size=(100, ))\n",
        "\n",
        "#tests for N(0,1)\n",
        "normal_01 = scipy.stats.norm(loc=0, scale=1)\n",
        "qqplot(data, normal_01)\n",
        "\n",
        "#tests for N(5,3)\n",
        "normal_53 = scipy.stats.norm(loc=5, scale=3)\n",
        "qqplot(data, normal_53)\n",
        "\n",
        "#tests for N(1,3)\n",
        "normal_13 = scipy.stats.norm(loc=1, scale=3)\n",
        "qqplot(data, normal_13)"
      ]
    },
    {
      "cell_type": "code",
      "execution_count": 93,
      "metadata": {
        "id": "fehqUx_MmLJm",
        "outputId": "7e06e470-f45b-4cf5-b531-3c2deef211cd",
        "colab": {
          "base_uri": "https://localhost:8080/",
          "height": 1000
        }
      },
      "outputs": [
        {
          "output_type": "display_data",
          "data": {
            "text/plain": [
              "<Figure size 432x288 with 1 Axes>"
            ],
            "image/png": "[encoded data removed]"
          },
          "metadata": {
            "needs_background": "light"
          }
        },
        {
          "output_type": "display_data",
          "data": {
            "text/plain": [
              "<Figure size 432x288 with 1 Axes>"
            ],
            "image/png": "[encoded data removed]"
          },
          "metadata": {
            "needs_background": "light"
          }
        },
        {
          "output_type": "display_data",
          "data": {
            "text/plain": [
              "<Figure size 432x288 with 1 Axes>"
            ],
            "image/png": "[encoded data removed]"
          },
          "metadata": {
            "needs_background": "light"
          }
        },
        {
          "output_type": "display_data",
          "data": {
            "text/plain": [
              "<Figure size 432x288 with 1 Axes>"
            ],
            "image/png": "[encoded data removed]"
          },
          "metadata": {
            "needs_background": "light"
          }
        }
      ],
      "source": [
        "# Answer 2.\n",
        "\n",
        "data = np.random.chisquare(5, 100)\n",
        "\n",
        "#tests for N(0,1)\n",
        "normal_51 = scipy.stats.norm(loc=5, scale=1)\n",
        "qqplot(data, normal_51)\n",
        "\n",
        "#tests for X4\n",
        "chi4 = scipy.stats.chi2(4)\n",
        "qqplot(data, chi4)\n",
        "\n",
        "#tests for X5\n",
        "chi5 = scipy.stats.chi2(5)\n",
        "qqplot(data, chi5)\n",
        "\n",
        "#tests for X6\n",
        "chi6 = scipy.stats.chi2(6)\n",
        "qqplot(data, chi6)"
      ]
    },
    {
      "cell_type": "markdown",
      "metadata": {
        "id": "lNkeMzNxmLJn"
      },
      "source": [
        "# Generate a simple regression model\n",
        "\n",
        "Given the sample size n and dimension p, generate a dataset (y, X) where y has size n and X has size n times p,\n",
        "such that\n",
        "$y = X \\beta^* + \\beta_0^* + \\epsilon$ where $\\epsilon$ has iid $N(0,\\sigma^2)$ entries, $X$ has iid $N(0,1)$ entries, and $\\beta^*\\in R^p$ has norm equal to the signal strength parameter, and $\\beta_0^*$ is the intercept."
      ]
    },
    {
      "cell_type": "code",
      "execution_count": null,
      "metadata": {
        "id": "TFnYtjzLmLJn",
        "outputId": "826d2f97-60e8-4f0e-b3b9-bdc294763b80"
      },
      "outputs": [
        {
          "ename": "NotImplementedError",
          "evalue": "",
          "output_type": "error",
          "traceback": [
            "\u001b[0;31m---------------------------------------------------------------------------\u001b[0m",
            "\u001b[0;31mNotImplementedError\u001b[0m                       Traceback (most recent call last)",
            "\u001b[0;32m/tmp/ipykernel_841398/1719254416.py\u001b[0m in \u001b[0;36m<module>\u001b[0;34m\u001b[0m\n\u001b[1;32m     54\u001b[0m     \u001b[0mnp\u001b[0m\u001b[0;34m.\u001b[0m\u001b[0mtesting\u001b[0m\u001b[0;34m.\u001b[0m\u001b[0massert_allclose\u001b[0m\u001b[0;34m(\u001b[0m\u001b[0mX\u001b[0m\u001b[0;34m.\u001b[0m\u001b[0mdot\u001b[0m\u001b[0;34m(\u001b[0m\u001b[0mb_true\u001b[0m\u001b[0;34m)\u001b[0m\u001b[0;34m,\u001b[0m \u001b[0my\u001b[0m\u001b[0;34m)\u001b[0m\u001b[0;34m\u001b[0m\u001b[0;34m\u001b[0m\u001b[0m\n\u001b[1;32m     55\u001b[0m \u001b[0;34m\u001b[0m\u001b[0m\n\u001b[0;32m---> 56\u001b[0;31m \u001b[0mtest_nointercept\u001b[0m\u001b[0;34m(\u001b[0m\u001b[0;34m)\u001b[0m\u001b[0;34m\u001b[0m\u001b[0;34m\u001b[0m\u001b[0m\n\u001b[0m\u001b[1;32m     57\u001b[0m \u001b[0;34m\u001b[0m\u001b[0m\n\u001b[1;32m     58\u001b[0m \u001b[0;32mdef\u001b[0m \u001b[0mgenerate_dataset_with_intercept\u001b[0m\u001b[0;34m(\u001b[0m\u001b[0mn\u001b[0m\u001b[0;34m,\u001b[0m \u001b[0mp\u001b[0m\u001b[0;34m,\u001b[0m \u001b[0msigma\u001b[0m\u001b[0;34m=\u001b[0m\u001b[0;36m0.7\u001b[0m\u001b[0;34m,\u001b[0m \u001b[0msignal_strength\u001b[0m\u001b[0;34m=\u001b[0m\u001b[0;36m2\u001b[0m\u001b[0;34m)\u001b[0m\u001b[0;34m:\u001b[0m\u001b[0;34m\u001b[0m\u001b[0;34m\u001b[0m\u001b[0m\n",
            "\u001b[0;32m/tmp/ipykernel_841398/1719254416.py\u001b[0m in \u001b[0;36mtest_nointercept\u001b[0;34m()\u001b[0m\n\u001b[1;32m     51\u001b[0m     \u001b[0mCheck\u001b[0m \u001b[0mthat\u001b[0m \u001b[0mX\u001b[0m\u001b[0;34m.\u001b[0m\u001b[0mdot\u001b[0m\u001b[0;34m(\u001b[0m\u001b[0mb_true\u001b[0m\u001b[0;34m)\u001b[0m \u001b[0;34m=\u001b[0m \u001b[0my\u001b[0m \u001b[0mwhen\u001b[0m \u001b[0mthe\u001b[0m \u001b[0mnoise\u001b[0m \u001b[0;32mis\u001b[0m \u001b[0;36m0\u001b[0m\u001b[0;34m\u001b[0m\u001b[0;34m\u001b[0m\u001b[0m\n\u001b[1;32m     52\u001b[0m     \"\"\"\n\u001b[0;32m---> 53\u001b[0;31m     \u001b[0mX\u001b[0m\u001b[0;34m,\u001b[0m \u001b[0my\u001b[0m\u001b[0;34m,\u001b[0m \u001b[0mb_true\u001b[0m \u001b[0;34m=\u001b[0m \u001b[0mgenerate_dataset\u001b[0m\u001b[0;34m(\u001b[0m\u001b[0;36m100\u001b[0m\u001b[0;34m,\u001b[0m \u001b[0;36m10\u001b[0m\u001b[0;34m,\u001b[0m \u001b[0msigma\u001b[0m\u001b[0;34m=\u001b[0m\u001b[0;36m0\u001b[0m\u001b[0;34m,\u001b[0m \u001b[0msignal_strength\u001b[0m\u001b[0;34m=\u001b[0m\u001b[0;36m1\u001b[0m\u001b[0;34m)\u001b[0m\u001b[0;34m\u001b[0m\u001b[0;34m\u001b[0m\u001b[0m\n\u001b[0m\u001b[1;32m     54\u001b[0m     \u001b[0mnp\u001b[0m\u001b[0;34m.\u001b[0m\u001b[0mtesting\u001b[0m\u001b[0;34m.\u001b[0m\u001b[0massert_allclose\u001b[0m\u001b[0;34m(\u001b[0m\u001b[0mX\u001b[0m\u001b[0;34m.\u001b[0m\u001b[0mdot\u001b[0m\u001b[0;34m(\u001b[0m\u001b[0mb_true\u001b[0m\u001b[0;34m)\u001b[0m\u001b[0;34m,\u001b[0m \u001b[0my\u001b[0m\u001b[0;34m)\u001b[0m\u001b[0;34m\u001b[0m\u001b[0;34m\u001b[0m\u001b[0m\n\u001b[1;32m     55\u001b[0m \u001b[0;34m\u001b[0m\u001b[0m\n",
            "\u001b[0;32m/tmp/ipykernel_841398/1719254416.py\u001b[0m in \u001b[0;36mgenerate_dataset\u001b[0;34m(n, p, sigma, signal_strength)\u001b[0m\n\u001b[1;32m     45\u001b[0m     \u001b[0mb_true\u001b[0m\u001b[0;34m:\u001b[0m \u001b[0mnp\u001b[0m \u001b[0marray\u001b[0m \u001b[0mof\u001b[0m \u001b[0mshape\u001b[0m \u001b[0;34m(\u001b[0m\u001b[0mp\u001b[0m\u001b[0;34m,\u001b[0m\u001b[0;34m)\u001b[0m\u001b[0;34m\u001b[0m\u001b[0;34m\u001b[0m\u001b[0m\n\u001b[1;32m     46\u001b[0m     \"\"\"\n\u001b[0;32m---> 47\u001b[0;31m     \u001b[0;32mraise\u001b[0m \u001b[0mNotImplementedError\u001b[0m\u001b[0;34m\u001b[0m\u001b[0;34m\u001b[0m\u001b[0m\n\u001b[0m\u001b[1;32m     48\u001b[0m \u001b[0;34m\u001b[0m\u001b[0m\n\u001b[1;32m     49\u001b[0m \u001b[0;32mdef\u001b[0m \u001b[0mtest_nointercept\u001b[0m\u001b[0;34m(\u001b[0m\u001b[0;34m)\u001b[0m\u001b[0;34m:\u001b[0m\u001b[0;34m\u001b[0m\u001b[0;34m\u001b[0m\u001b[0m\n",
            "\u001b[0;31mNotImplementedError\u001b[0m: "
          ]
        }
      ],
      "source": [
        "def linear_regression(X, beta_true, sigma):\n",
        "    \"\"\"\n",
        "    Applies the linear regression model\n",
        "    \n",
        "    Parameters\n",
        "    -----------\n",
        "    \n",
        "    X: np array of shape (n, p)\n",
        "    input features\n",
        "\n",
        "    beta_true: np array of shape (p)\n",
        "    true coefficients\n",
        "    \n",
        "    sigma: float\n",
        "    noise standard deviation \n",
        "\n",
        "    Return\n",
        "    ------\n",
        "    y: np array of shape (n,)\n",
        "    responses generated accroding to the linear regression model\n",
        "    y= X beta_star + eps\n",
        "    \"\"\"\n",
        "    raise NotImplementedError\n",
        "\n",
        "def generate_dataset(n, p, sigma=0.7, signal_strength=2):\n",
        "    \"\"\"\n",
        "    Generate a data set (with intercept = 0)\n",
        "    Take beta_star uniformly in the sphere of length: signal_strength\n",
        "    Parameters\n",
        "    ----------\n",
        "    n: int\n",
        "        number of samples\n",
        "    p: int\n",
        "        dimension\n",
        "    sigma: float\n",
        "        noise standard deviation\n",
        "    signal_strength: float\n",
        "        norm of the true parameter b_true\n",
        "    \n",
        "    Return\n",
        "    X: np array of shape (n, p)\n",
        "        Features\n",
        "    y: np array of shape (n,)\n",
        "        Target\n",
        "    b_true: np array of shape (p,)\n",
        "    \"\"\"\n",
        "    raise NotImplementedError\n",
        "\n",
        "def test_nointercept():\n",
        "    \"\"\"\n",
        "    Check that X.dot(b_true) = y when the noise is 0\n",
        "    \"\"\"\n",
        "    X, y, b_true = generate_dataset(100, 10, sigma=0, signal_strength=1)\n",
        "    np.testing.assert_allclose(X.dot(b_true), y)\n",
        "    \n",
        "test_nointercept()\n",
        "\n",
        "def generate_dataset_with_intercept(n, p, sigma=0.7, signal_strength=2):\n",
        "    \"\"\"\n",
        "    Generate a data set, same as before, but here the returned array X should have\n",
        "    p+1 columns, and the first column contains only 1,1,...,1 to accout for\n",
        "    possible intercept.\n",
        "    Parameters\n",
        "    ----------\n",
        "    n: int\n",
        "        number of samples\n",
        "    p: int\n",
        "        dimension\n",
        "    sigma: float\n",
        "        noise standard deviation\n",
        "    signal_strength: float\n",
        "        norm of the true parameter b_true\n",
        "    \n",
        "    Return\n",
        "    X: np array of shape (n, p + 1)\n",
        "        Features, last column contains only ones\n",
        "    y: np array of shape (n,)\n",
        "        Target\n",
        "    b_true: np array of shape (p,)\n",
        "        true coefficients (last one is the intercept)\n",
        "    \"\"\"\n",
        "    raise NotImplementedError\n",
        "\n",
        "def test_intercept():\n",
        "    \"\"\"\n",
        "    Check that X.dot(b_true) = y when the noise is 0 and intercept = 0\n",
        "    \"\"\"\n",
        "    X, y, b_true = generate_dataset_with_intercept(100, 10, sigma=0, signal_strength=1)\n",
        "    np.testing.assert_allclose(X[:, :-1].dot(b_true[:-1]) + b_true[-1], y)\n",
        "    \n",
        "test_nointercept()\n",
        "test_intercept()"
      ]
    },
    {
      "cell_type": "markdown",
      "metadata": {
        "id": "FgoHXHmxmLJo"
      },
      "source": [
        "# Least-squares\n",
        "\n",
        "Given a design matrix X and response y,\n",
        "implement the least-squares estimate $\\hat\\beta = (X^TX)^\\dagger X^Ty$\n",
        "using several methods:\n",
        "\n",
        "1. using the SVD of X `np.linalg.svd`\n",
        "2. using the pseudo-inverse of X `np.linalg.pinv`\n",
        "3. using the inverse of $X^TX$ if full-rank, and its pseudo-inverse otherwise\n",
        "4. using `scipy.linalg.lstsq`\n",
        "\n",
        "For $p=10, n=20$, generate a dataset using the previous functions and verify that all methods give the correct estimate of $\\beta$ when there is no noise.\n",
        "\n",
        "For $p=10, n=20$, generate a dataset using the previous functions and verify that all methods give the same estimate.\n"
      ]
    },
    {
      "cell_type": "code",
      "execution_count": null,
      "metadata": {
        "id": "NmvCMnYimLJo",
        "outputId": "3c6d653c-5078-4c06-9d5b-740b50703051"
      },
      "outputs": [
        {
          "ename": "NotImplementedError",
          "evalue": "",
          "output_type": "error",
          "traceback": [
            "\u001b[0;31m---------------------------------------------------------------------------\u001b[0m",
            "\u001b[0;31mNotImplementedError\u001b[0m                       Traceback (most recent call last)",
            "\u001b[0;32m/tmp/ipykernel_841398/166140221.py\u001b[0m in \u001b[0;36m<module>\u001b[0;34m\u001b[0m\n\u001b[1;32m     22\u001b[0m \u001b[0;34m\u001b[0m\u001b[0m\n\u001b[1;32m     23\u001b[0m \u001b[0;34m\u001b[0m\u001b[0m\n\u001b[0;32m---> 24\u001b[0;31m \u001b[0mtest_lsqr\u001b[0m\u001b[0;34m(\u001b[0m\u001b[0;34m)\u001b[0m\u001b[0;34m\u001b[0m\u001b[0;34m\u001b[0m\u001b[0m\n\u001b[0m\u001b[1;32m     25\u001b[0m \u001b[0mtest_same_estimate\u001b[0m\u001b[0;34m(\u001b[0m\u001b[0;34m)\u001b[0m\u001b[0;34m\u001b[0m\u001b[0;34m\u001b[0m\u001b[0m\n",
            "\u001b[0;32m/tmp/ipykernel_841398/166140221.py\u001b[0m in \u001b[0;36mtest_lsqr\u001b[0;34m()\u001b[0m\n\u001b[1;32m     14\u001b[0m     \"\"\"Test that all methods yield the correct beta when there is no noise\n\u001b[1;32m     15\u001b[0m     \"\"\"\n\u001b[0;32m---> 16\u001b[0;31m     \u001b[0;32mraise\u001b[0m \u001b[0mNotImplementedError\u001b[0m\u001b[0;34m\u001b[0m\u001b[0;34m\u001b[0m\u001b[0m\n\u001b[0m\u001b[1;32m     17\u001b[0m \u001b[0;34m\u001b[0m\u001b[0m\n\u001b[1;32m     18\u001b[0m \u001b[0;32mdef\u001b[0m \u001b[0mtest_same_estimate\u001b[0m\u001b[0;34m(\u001b[0m\u001b[0;34m)\u001b[0m\u001b[0;34m:\u001b[0m\u001b[0;34m\u001b[0m\u001b[0;34m\u001b[0m\u001b[0m\n",
            "\u001b[0;31mNotImplementedError\u001b[0m: "
          ]
        }
      ],
      "source": [
        "def compute_least_squares_using_SVD(X, y):\n",
        "    raise NotImplementedError\n",
        "    \n",
        "def compute_least_squares_using_pseudo_inverse(X, y):\n",
        "    raise NotImplementedError\n",
        "    \n",
        "def compute_least_squares_using_method3(X, y):\n",
        "    raise NotImplementedError\n",
        "\n",
        "def compute_least_squares_using_scipy(X, y):\n",
        "    raise NotImplementedError\n",
        "    \n",
        "def test_lsqr():\n",
        "    \"\"\"Test that all methods yield the correct beta when there is no noise\n",
        "    \"\"\"\n",
        "    raise NotImplementedError\n",
        "        \n",
        "def test_same_estimate():\n",
        "    \"\"\" Test that all methods yield the same estimate of beta\n",
        "    \"\"\"\n",
        "    raise NotImplementedError\n",
        "\n",
        "        \n",
        "test_lsqr()\n",
        "test_same_estimate()"
      ]
    },
    {
      "cell_type": "markdown",
      "metadata": {
        "id": "mF1wA-1ImLJo"
      },
      "source": [
        "# The distribution of the MLE, the residuals, and the loss\n",
        "\n",
        "By computing 100 independent datasets with $p=10, n=30$, verify with histograms and\n",
        "QQ-plots that the squared norm $\\|y-X\\hat\\beta\\|^2/\\sigma^2$ has chi square distribution, and recall its degrees of freedom."
      ]
    },
    {
      "cell_type": "code",
      "execution_count": null,
      "metadata": {
        "id": "Yu-YIedimLJp",
        "outputId": "6315897a-e068-4750-fdbe-025673ca2918"
      },
      "outputs": [
        {
          "ename": "NotImplementedError",
          "evalue": "",
          "output_type": "error",
          "traceback": [
            "\u001b[0;31m---------------------------------------------------------------------------\u001b[0m",
            "\u001b[0;31mNotImplementedError\u001b[0m                       Traceback (most recent call last)",
            "\u001b[0;32m/tmp/ipykernel_841398/3955241513.py\u001b[0m in \u001b[0;36m<module>\u001b[0;34m\u001b[0m\n\u001b[1;32m      2\u001b[0m     \u001b[0;32mraise\u001b[0m \u001b[0mNotImplementedError\u001b[0m\u001b[0;34m\u001b[0m\u001b[0;34m\u001b[0m\u001b[0m\n\u001b[1;32m      3\u001b[0m \u001b[0;34m\u001b[0m\u001b[0m\n\u001b[0;32m----> 4\u001b[0;31m \u001b[0merror_residual_plot\u001b[0m\u001b[0;34m(\u001b[0m\u001b[0;34m)\u001b[0m\u001b[0;34m\u001b[0m\u001b[0;34m\u001b[0m\u001b[0m\n\u001b[0m",
            "\u001b[0;32m/tmp/ipykernel_841398/3955241513.py\u001b[0m in \u001b[0;36merror_residual_plot\u001b[0;34m()\u001b[0m\n\u001b[1;32m      1\u001b[0m \u001b[0;32mdef\u001b[0m \u001b[0merror_residual_plot\u001b[0m\u001b[0;34m(\u001b[0m\u001b[0;34m)\u001b[0m\u001b[0;34m:\u001b[0m\u001b[0;34m\u001b[0m\u001b[0;34m\u001b[0m\u001b[0m\n\u001b[0;32m----> 2\u001b[0;31m     \u001b[0;32mraise\u001b[0m \u001b[0mNotImplementedError\u001b[0m\u001b[0;34m\u001b[0m\u001b[0;34m\u001b[0m\u001b[0m\n\u001b[0m\u001b[1;32m      3\u001b[0m \u001b[0;34m\u001b[0m\u001b[0m\n\u001b[1;32m      4\u001b[0m \u001b[0merror_residual_plot\u001b[0m\u001b[0;34m(\u001b[0m\u001b[0;34m)\u001b[0m\u001b[0;34m\u001b[0m\u001b[0;34m\u001b[0m\u001b[0m\n",
            "\u001b[0;31mNotImplementedError\u001b[0m: "
          ]
        }
      ],
      "source": [
        "def error_residual_plot():\n",
        "    raise NotImplementedError\n",
        "    \n",
        "error_residual_plot()\n"
      ]
    },
    {
      "cell_type": "markdown",
      "metadata": {
        "id": "sG5BJAfumLJp"
      },
      "source": [
        "# The curve of the risk of the MLE in high dimension\n",
        "\n",
        "1. Fix $n=200$, noise level $\\sigma^2=0.7$, signal strength $2$, and a grid of values for $p/n$, say $0.1, 0.2, 0.3, 0.4, ..., 2.9, 3.0$. For each for of $n, p$, generate $10$ independent datasets and plot the boxplots corresponding the squared error $\\|\\hat\\beta - \\beta^*\\|^2$ for each given ratio $p/n$. If $p>n$, make sure that $\\hat\\beta$ is the solution $(X^TX)^\\dagger X^Ty$. Plot the corresponding theoretical curves for the expected squared error found using the formula for expected inverse Wishart matrices.\n",
        "\n",
        "2. Bonus: Plot also the boxplots for the the bias and variance of the squared error. "
      ]
    },
    {
      "cell_type": "code",
      "execution_count": null,
      "metadata": {
        "id": "iDtHDmCqmLJp",
        "outputId": "cfadcbf3-27b9-4dbc-caa3-d714ed30b049"
      },
      "outputs": [
        {
          "ename": "NotImplementedError",
          "evalue": "",
          "output_type": "error",
          "traceback": [
            "\u001b[0;31m---------------------------------------------------------------------------\u001b[0m",
            "\u001b[0;31mNotImplementedError\u001b[0m                       Traceback (most recent call last)",
            "\u001b[0;32m/tmp/ipykernel_841398/4148399174.py\u001b[0m in \u001b[0;36m<module>\u001b[0;34m\u001b[0m\n\u001b[1;32m      1\u001b[0m \u001b[0;31m# Question 1\u001b[0m\u001b[0;34m\u001b[0m\u001b[0;34m\u001b[0m\u001b[0;34m\u001b[0m\u001b[0m\n\u001b[0;32m----> 2\u001b[0;31m \u001b[0;32mraise\u001b[0m \u001b[0mNotImplementedError\u001b[0m\u001b[0;34m\u001b[0m\u001b[0;34m\u001b[0m\u001b[0m\n\u001b[0m\u001b[1;32m      3\u001b[0m \u001b[0;31m# Question 2\u001b[0m\u001b[0;34m\u001b[0m\u001b[0;34m\u001b[0m\u001b[0;34m\u001b[0m\u001b[0m\n\u001b[1;32m      4\u001b[0m \u001b[0;32mraise\u001b[0m \u001b[0mNotImplementedError\u001b[0m\u001b[0;34m\u001b[0m\u001b[0;34m\u001b[0m\u001b[0m\n",
            "\u001b[0;31mNotImplementedError\u001b[0m: "
          ]
        }
      ],
      "source": [
        "# Question 1\n",
        "raise NotImplementedError\n",
        "# Question 2\n",
        "raise NotImplementedError"
      ]
    },
    {
      "cell_type": "code",
      "execution_count": null,
      "metadata": {
        "id": "OU-_nvJfmLJp"
      },
      "outputs": [],
      "source": [
        ""
      ]
    }
  ],
  "metadata": {
    "kernelspec": {
      "display_name": "Python 3 (ipykernel)",
      "language": "python",
      "name": "python3"
    },
    "language_info": {
      "codemirror_mode": {
        "name": "ipython",
        "version": 3
      },
      "file_extension": ".py",
      "mimetype": "text/x-python",
      "name": "python",
      "nbconvert_exporter": "python",
      "pygments_lexer": "ipython3",
      "version": "3.8.10"
    },
    "colab": {
      "name": "CIRON_PM_TP1 Numpy and Maximum Likelihood in linear regression.ipynb",
      "provenance": [],
      "collapsed_sections": [],
      "include_colab_link": true
    }
  },
  "nbformat": 4,
  "nbformat_minor": 0
}